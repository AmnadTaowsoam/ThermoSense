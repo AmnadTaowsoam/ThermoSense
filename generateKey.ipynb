{
 "cells": [
  {
   "cell_type": "code",
   "execution_count": 2,
   "id": "659d379c",
   "metadata": {},
   "outputs": [
    {
     "name": "stdout",
     "output_type": "stream",
     "text": [
      "# Generated secrets\n",
      "API_KEY=dd600c90f83fab3e97fbd6180c59e457b9fad42e7e73f13e0d0f351490acb18b\n",
      "JWT_SECRET_KEY=6yzyecCZE-pm-MloqYahZqtylxxOG7oJAlSY9MVfoD8\n",
      "SECRET_KEY=C8P8SDTAmlH9mnA+q4tqmUOTbQr1STfaO2EibBOiiRk=\n",
      "\n"
     ]
    }
   ],
   "source": [
    "#!/usr/bin/env python3\n",
    "import secrets\n",
    "import base64\n",
    "import argparse\n",
    "import json\n",
    "import sys\n",
    "from typing import Tuple\n",
    "\n",
    "\n",
    "def generate_api_key(length: int = 64) -> str:\n",
    "    return secrets.token_hex(length // 2)\n",
    "\n",
    "\n",
    "def generate_jwt_secret_key(num_bytes: int = 32) -> str:\n",
    "    raw = secrets.token_bytes(num_bytes)\n",
    "    return base64.urlsafe_b64encode(raw).rstrip(b\"=\").decode()\n",
    "\n",
    "\n",
    "def generate_secret_key(num_bytes: int = 32) -> str:\n",
    "    raw = secrets.token_bytes(num_bytes)\n",
    "    return base64.b64encode(raw).decode()\n",
    "\n",
    "\n",
    "def make_keys() -> Tuple[str, str, str]:\n",
    "    return generate_api_key(), generate_jwt_secret_key(), generate_secret_key()\n",
    "\n",
    "\n",
    "def env_snippet(api_key: str, jwt_secret: str, secret_key: str) -> str:\n",
    "    return f\"\"\"# Generated secrets\n",
    "API_KEY={api_key}\n",
    "JWT_SECRET_KEY={jwt_secret}\n",
    "SECRET_KEY={secret_key}\n",
    "\"\"\"\n",
    "\n",
    "\n",
    "def json_snippet(api_key: str, jwt_secret: str, secret_key: str) -> str:\n",
    "    return json.dumps({\n",
    "        \"API_KEY\": api_key,\n",
    "        \"JWT_SECRET_KEY\": jwt_secret,\n",
    "        \"SECRET_KEY\": secret_key\n",
    "    }, indent=2)\n",
    "\n",
    "\n",
    "def main():\n",
    "    parser = argparse.ArgumentParser(description=\"Generate secure API_KEY, JWT_SECRET_KEY, SECRET_KEY\")\n",
    "    parser.add_argument(\"--env\", action=\"store_true\", help=\"Output as .env snippet\")\n",
    "    parser.add_argument(\"--json\", action=\"store_true\", help=\"Output as JSON\")\n",
    "    parser.add_argument(\"--save\", type=str, help=\"Save to file (overwrites). Extension determines format (.env or .json)\")\n",
    "    # use parse_known_args so unknown (e.g., from ipykernel) are ignored instead of erroring out\n",
    "    args, unknown = parser.parse_known_args()\n",
    "\n",
    "    api_key, jwt_secret, secret_key = make_keys()\n",
    "\n",
    "    if args.json:\n",
    "        out = json_snippet(api_key, jwt_secret, secret_key)\n",
    "    else:\n",
    "        out = env_snippet(api_key, jwt_secret, secret_key)\n",
    "\n",
    "    if args.save:\n",
    "        with open(args.save, \"w\") as f:\n",
    "            f.write(out)\n",
    "        print(f\"Saved to {args.save}\")\n",
    "    else:\n",
    "        print(out)\n",
    "\n",
    "\n",
    "if __name__ == \"__main__\":\n",
    "    main()\n"
   ]
  }
 ],
 "metadata": {
  "kernelspec": {
   "display_name": "bom_env",
   "language": "python",
   "name": "python3"
  },
  "language_info": {
   "codemirror_mode": {
    "name": "ipython",
    "version": 3
   },
   "file_extension": ".py",
   "mimetype": "text/x-python",
   "name": "python",
   "nbconvert_exporter": "python",
   "pygments_lexer": "ipython3",
   "version": "3.9.20"
  }
 },
 "nbformat": 4,
 "nbformat_minor": 5
}
